{
 "cells": [
  {
   "cell_type": "markdown",
   "metadata": {},
   "source": [
    "1) A company decided to give bonus of 5% to employee if his/her year of service is more than 5 years.\n",
    "Ask user for their salary and year of service and print the net bonus amount."
   ]
  },
  {
   "cell_type": "code",
   "execution_count": 1,
   "metadata": {},
   "outputs": [
    {
     "name": "stdin",
     "output_type": "stream",
     "text": [
      "Enter Your Job Duration:  6\n",
      "Enter Your Salary:  50000\n"
     ]
    },
    {
     "name": "stdout",
     "output_type": "stream",
     "text": [
      "Congragutation you able to get bonus amount\n",
      "Your bonus amount is:  2500.0\n"
     ]
    }
   ],
   "source": [
    "Job_Duration = int(input(\"Enter Your Job Duration: \"))\n",
    "User_Salary = int(input(\"Enter Your Salary: \"))\n",
    "\n",
    "if Job_Duration > 5:\n",
    "    bonus = User_Salary * 0.05\n",
    "    print(\"Congragutation you able to get bonus amount\")\n",
    "    print(\"Your bonus amount is: \", bonus)\n",
    "else:\n",
    "        print(\"You are not eligible for bonus amount\")"
   ]
  },
  {
   "cell_type": "markdown",
   "metadata": {},
   "source": [
    "\n",
    "2) Write a program to check whether a person is eligible for voting or not. (accept age from user) if age is greater than 17 eligible otherwise not eligible"
   ]
  },
  {
   "cell_type": "code",
   "execution_count": 2,
   "metadata": {},
   "outputs": [
    {
     "name": "stdin",
     "output_type": "stream",
     "text": [
      "Enter Your age for voting:  18\n"
     ]
    },
    {
     "name": "stdout",
     "output_type": "stream",
     "text": [
      "You are eligible for voting\n"
     ]
    }
   ],
   "source": [
    "voting_age = int(input(\"Enter Your age for voting: \"))\n",
    "\n",
    "\n",
    "if voting_age > 17:\n",
    "    print(\"You are eligible for voting\")\n",
    "else:\n",
    "    print(\"You are not eligible for voting\")"
   ]
  },
  {
   "cell_type": "markdown",
   "metadata": {},
   "source": [
    "\n",
    "3) Write a program to check whether a number entered by user is even or odd."
   ]
  },
  {
   "cell_type": "code",
   "execution_count": 4,
   "metadata": {},
   "outputs": [
    {
     "name": "stdin",
     "output_type": "stream",
     "text": [
      "Enter your number: 6\n"
     ]
    },
    {
     "name": "stdout",
     "output_type": "stream",
     "text": [
      "6 is an even number\n"
     ]
    }
   ],
   "source": [
    "number = int(input(\"Enter your number:\"))\n",
    "\n",
    "if number % 2 == 0:\n",
    "    print(f\"{number} is an even number\")\n",
    "else:\n",
    "    print(f\"{number} is an odd number\")\n"
   ]
  },
  {
   "cell_type": "markdown",
   "metadata": {},
   "source": [
    "4) Write a program to check whether a number is divisible by 7 or not.\n",
    "Show Answer"
   ]
  },
  {
   "cell_type": "code",
   "execution_count": 5,
   "metadata": {},
   "outputs": [
    {
     "name": "stdin",
     "output_type": "stream",
     "text": [
      "Enter your number: 49\n"
     ]
    },
    {
     "name": "stdout",
     "output_type": "stream",
     "text": [
      "49 is divisible by 7\n"
     ]
    }
   ],
   "source": [
    "number = int(input(\"Enter your number:\"))\n",
    "\n",
    "if number % 7 == 0:\n",
    "    print(f\"{number} is divisible by 7\")\n",
    "else:\n",
    "    print(f\"{number} is not divisible by 7\")"
   ]
  },
  {
   "cell_type": "markdown",
   "metadata": {},
   "source": [
    "5) Write a program to display \n",
    "\"Hello\" if a number entered by user is a multiple of five , otherwise print \"Bye\"."
   ]
  },
  {
   "cell_type": "code",
   "execution_count": 6,
   "metadata": {},
   "outputs": [
    {
     "name": "stdin",
     "output_type": "stream",
     "text": [
      "Enter your number: 35\n"
     ]
    },
    {
     "name": "stdout",
     "output_type": "stream",
     "text": [
      "Hello\n"
     ]
    }
   ],
   "source": [
    "number = int(input(\"Enter your number:\"))\n",
    "\n",
    "if number % 5 == 0:\n",
    "    print(\"Hello\")\n",
    "else:\n",
    "    print(\"Bye\")"
   ]
  },
  {
   "cell_type": "markdown",
   "metadata": {},
   "source": [
    "6) Write a program to display the last digit of a number.\n"
   ]
  },
  {
   "cell_type": "code",
   "execution_count": 7,
   "metadata": {},
   "outputs": [
    {
     "name": "stdin",
     "output_type": "stream",
     "text": [
      "Enter your number: 35\n"
     ]
    },
    {
     "name": "stdout",
     "output_type": "stream",
     "text": [
      "5 is last digit\n"
     ]
    }
   ],
   "source": [
    "number = int(input(\"Enter your number:\"))\n",
    "\n",
    "if number > 0:\n",
    "    print(f'{number % 10} is last digit')\n",
    "else:\n",
    "  print(f'-{number % 10} is last digit')"
   ]
  },
  {
   "cell_type": "markdown",
   "metadata": {},
   "source": [
    "7) Take values of length and breadth of a rectangle from user and print if it is square or rectangle."
   ]
  },
  {
   "cell_type": "code",
   "execution_count": 8,
   "metadata": {},
   "outputs": [
    {
     "name": "stdin",
     "output_type": "stream",
     "text": [
      "Enter your lenght 5\n",
      "Enter your breadth 5\n"
     ]
    },
    {
     "name": "stdout",
     "output_type": "stream",
     "text": [
      "It is a square\n"
     ]
    }
   ],
   "source": [
    "length = int(input(\"Enter your lenght\"))\n",
    "breadth = int(input(\"Enter your breadth\"))\n",
    "\n",
    "if length == breadth:\n",
    "    print(\"It is a square\")\n",
    "else:\n",
    "    print(\"It is a rectangle\")"
   ]
  },
  {
   "cell_type": "markdown",
   "metadata": {},
   "source": [
    "8) Take two int values from user and print greatest among them."
   ]
  },
  {
   "cell_type": "code",
   "execution_count": 9,
   "metadata": {},
   "outputs": [
    {
     "name": "stdin",
     "output_type": "stream",
     "text": [
      "Enter your First value:  2\n",
      "Enter your Second value:  1\n"
     ]
    },
    {
     "name": "stdout",
     "output_type": "stream",
     "text": [
      "2 is greater then the 2nd value\n"
     ]
    }
   ],
   "source": [
    "value_1 = int(input(\"Enter your First value: \"))\n",
    "value_2 = int(input(\"Enter your Second value: \"))\n",
    "\n",
    "if value_1 > value_2:\n",
    "    print(value_1, \"is greater then the 2nd value\")\n",
    "elif value_2 > value_1:\n",
    "  print(value_2, \"is less then from the 1st value\")\n",
    "else:\n",
    "    print(value_1, '-', value_2, \"Both are equal\")"
   ]
  },
  {
   "cell_type": "markdown",
   "metadata": {},
   "source": [
    "9) A shop will give discount of 10% if the cost of purchased quantity is more than 1000.\n",
    "Ask user for quantity\n",
    "Suppose, one unit will cost 100.\n",
    "Judge and print total cost for user."
   ]
  },
  {
   "cell_type": "code",
   "execution_count": 10,
   "metadata": {},
   "outputs": [
    {
     "name": "stdin",
     "output_type": "stream",
     "text": [
      "Enter your purchased quantity:  101\n"
     ]
    },
    {
     "name": "stdout",
     "output_type": "stream",
     "text": [
      "You are eligible for discount: Rs: 1010.0\n",
      "After the discounted amount: Rs: 9090.0\n"
     ]
    }
   ],
   "source": [
    "quantity = int(input(\"Enter your purchased quantity: \"))\n",
    "cost = 100\n",
    "Total_Cost = quantity * cost\n",
    "if Total_Cost > 1000:\n",
    "    discount = Total_Cost * 10 / 100\n",
    "    Net_cost = Total_Cost - discount\n",
    "    print(\"You are eligible for discount: Rs:\", discount)\n",
    "    print(\"After the discounted amount: Rs:\", Net_cost)\n",
    "else:\n",
    "    print(\"You are not eligible for discount\")\n"
   ]
  },
  {
   "cell_type": "markdown",
   "metadata": {},
   "source": [
    "10) A school has following rules for grading system:\n",
    "\n",
    "a. Below 25 - F\n",
    "\n",
    "b. 25 to 45 - E\n",
    "\n",
    "c. 45 to 50 - D\n",
    "\n",
    "d. 50 to 60 - C\n",
    "\n",
    "e. 60 to 80 - B\n",
    "\n",
    "f. Above 80 - A\n",
    "\n",
    "Ask user to enter marks and print the corresponding grade."
   ]
  },
  {
   "cell_type": "code",
   "execution_count": 18,
   "metadata": {},
   "outputs": [
    {
     "name": "stdin",
     "output_type": "stream",
     "text": [
      "Enter your marks 80\n"
     ]
    },
    {
     "name": "stdout",
     "output_type": "stream",
     "text": [
      "B\n"
     ]
    }
   ],
   "source": [
    "marks = int(input(\"Enter your marks\"))\n",
    "\n",
    "if marks > 80:\n",
    "    print(\"A\")\n",
    "elif marks > 60 and marks <=80:\n",
    "    print(\"B\")\n",
    "elif marks > 50 and marks <=60:\n",
    "    print(\"C\")\n",
    "elif marks > 45 and marks <=50:\n",
    "    print(\"D\")\n",
    "elif marks > 25 and marks <=45:\n",
    "    print(\"E\")\n",
    "else:\n",
    "    print(\"F\")"
   ]
  },
  {
   "cell_type": "markdown",
   "metadata": {},
   "source": [
    "11)A student will not be allowed to sit in exam if his/her attendence is less than 75%.\n",
    "\n",
    "Take following input from user\n",
    "\n",
    "Number of classes held\n",
    "\n",
    "Number of classes attended.\n",
    "\n",
    "And print\n",
    "\n",
    "percentage of class attended\n",
    "\n",
    "Is student is allowed to sit in exam or not.\n"
   ]
  },
  {
   "cell_type": "code",
   "execution_count": 13,
   "metadata": {},
   "outputs": [
    {
     "name": "stdin",
     "output_type": "stream",
     "text": [
      "Submit your classes held info:  100\n",
      "Submit your classes attendance:  75\n"
     ]
    },
    {
     "name": "stdout",
     "output_type": "stream",
     "text": [
      "\n",
      "According to your percentage  75.0 %\n",
      "your are eligible to take exams \n"
     ]
    }
   ],
   "source": [
    "classes_held = int(input(\"Submit your classes held info: \"))\n",
    "classes_attendance = int(input(\"Submit your classes attendance: \"))\n",
    "\n",
    "percentage = (classes_attendance / classes_held) * 100\n",
    "\n",
    "\n",
    "if classes_attendance < 75:\n",
    "    print(\"\\nAccording to your percentage \", percentage, \"%\")\n",
    "    print(\"your are not eligible to take exams \")\n",
    "else:\n",
    "  print(\"\\nAccording to your percentage \", percentage, \"%\" )\n",
    "  print(\"your are eligible to take exams \")"
   ]
  },
  {
   "cell_type": "markdown",
   "metadata": {},
   "source": [
    "12) Modify the above question to allow student to sit if he/she has medical cause. Ask user if he/she has medical cause or not ( 'Y' or 'N' ) and print accordingly."
   ]
  },
  {
   "cell_type": "code",
   "execution_count": 16,
   "metadata": {},
   "outputs": [
    {
     "name": "stdin",
     "output_type": "stream",
     "text": [
      "Submit your classes held info:  100\n",
      "Submit your classes attendance:  75\n",
      "I have a medical issues? Y/N:  Y\n"
     ]
    },
    {
     "name": "stdout",
     "output_type": "stream",
     "text": [
      "Allowed to sit in exam due to medical cause.\n"
     ]
    }
   ],
   "source": [
    "classes_held = int(input(\"Submit your classes held info: \"))\n",
    "classes_attendance = int(input(\"Submit your classes attendance: \"))\n",
    "percentage = (classes_attendance / classes_held) * 100\n",
    "medical_cause = input(\"I have a medical issues? Y/N: \")\n",
    "\n",
    "\n",
    "\n",
    "if classes_attendance < 75 :\n",
    "    print(\"\\nAccording to your percentage \", percentage, \"%\")\n",
    "    print(\"your are not eligible to take exams \")\n",
    "else:\n",
    "    if medical_cause == \"Y\":\n",
    "        print(\"Allowed to sit in exam due to medical cause.\")\n",
    "    else:\n",
    "        print(\"\\nAccording to your percentage \", percentage, \"%\" )\n",
    "        print(\"your are eligible to take exams \")"
   ]
  },
  {
   "cell_type": "markdown",
   "metadata": {},
   "source": [
    "13) Write a program to check if a year is leap year or not.\n",
    "\n",
    "If a year is divisible by 4 then it is leap year but if the year is century year like 2000, 1900, 2100 then it must be divisible by 400."
   ]
  },
  {
   "cell_type": "code",
   "execution_count": 23,
   "metadata": {},
   "outputs": [
    {
     "name": "stdin",
     "output_type": "stream",
     "text": [
      "Enter the year 2021\n"
     ]
    },
    {
     "name": "stdout",
     "output_type": "stream",
     "text": [
      "2021 is NOT a Leap Year.\n"
     ]
    }
   ],
   "source": [
    "Year = int(input(\"Enter the year\"))\n",
    "\n",
    "if (Year % 4 == 0 and Year % 100 != 0) or (Year % 400 == 0):\n",
    "    print(f\"{Year} is a Leap Year.\")\n",
    "else:\n",
    "    print(f\"{Year} is NOT a Leap Year.\")"
   ]
  },
  {
   "cell_type": "markdown",
   "metadata": {},
   "source": [
    "14) Ask user to enter age, gender ( M or F ), marital status ( Y or N ) and then using following rules print their place of service.\n",
    "\n",
    "if employee is female, then she will work only in urban areas.\n",
    "\n",
    "if employee is a male and age is in between 20 to 40 then he may work in anywhere\n",
    "\n",
    "if employee is male and age is in between 40 t0 60 then he will work in urban areas only.\n",
    "\n",
    "And any other input of age should print \"ERROR\""
   ]
  },
  {
   "cell_type": "code",
   "execution_count": 24,
   "metadata": {},
   "outputs": [
    {
     "name": "stdin",
     "output_type": "stream",
     "text": [
      "Enter your age:  40\n",
      "What's your gender (M/F):  F\n"
     ]
    },
    {
     "name": "stdout",
     "output_type": "stream",
     "text": [
      "You can work only urban areas.\n"
     ]
    }
   ],
   "source": [
    "age = int(input(\"Enter your age: \"))\n",
    "gender = input(\"What's your gender (M/F): \")\n",
    "# marital_status = input(\"Enter your marital status (Y/N): \")\n",
    "\n",
    "\n",
    "if gender == \"F\":\n",
    "    print(\"You can work only urban areas.\")\n",
    "elif age >= 20 and age <=40 and gender == \"M\":\n",
    "    print(\"You can work anywhere areas.\")\n",
    "elif age >= 40 and age <= 60 and gender == \"M\":\n",
    "    print(\"You can work only urban areas.\")\n",
    "else:\n",
    "    print(\"ERROR\")"
   ]
  },
  {
   "cell_type": "markdown",
   "metadata": {},
   "source": [
    "15) Write a program to calculate the electricity bill (accept number of unit from user) according to the following criteria :\n",
    "     Unit                                                     Price  \n",
    "uptp 100 units                                             no charge\n",
    "Next 200 units                                              Rs 5 per unit\n",
    "After 200 units                                             Rs 10 per unit\n",
    "(For example if input unit is 350 than total bill amount is Rs.3500\n",
    "(For example if input unit is 97 than total bill amount is Rs.0\n",
    "(For example if input unit is 150 than total bill amount is Rs.750"
   ]
  },
  {
   "cell_type": "code",
   "execution_count": 25,
   "metadata": {},
   "outputs": [
    {
     "name": "stdin",
     "output_type": "stream",
     "text": [
      "Enter your electricity bill units here:  200\n"
     ]
    },
    {
     "name": "stdout",
     "output_type": "stream",
     "text": [
      "Your total bill amount is 1000\n"
     ]
    }
   ],
   "source": [
    "unit_no = int(input(\"Enter your electricity bill units here: \"))\n",
    "\n",
    "if unit_no >= 0 and unit_no <= 100:\n",
    "    print(\"Your total bill amount is 0\")\n",
    "elif unit_no > 100 and unit_no <= 200:\n",
    "    print(\"Your total bill amount is\", unit_no * 5)\n",
    "else:\n",
    "    print(\"Your total bill amount is\", unit_no * 10)"
   ]
  },
  {
   "cell_type": "markdown",
   "metadata": {},
   "source": [
    "16) Take input of age of 3 people by user and determine oldest and youngest among them."
   ]
  },
  {
   "cell_type": "code",
   "execution_count": 28,
   "metadata": {},
   "outputs": [
    {
     "name": "stdin",
     "output_type": "stream",
     "text": [
      "Enter your First person age:  35\n",
      "Enter your Second person age:  30\n",
      "Enter your Third person age:  28\n"
     ]
    },
    {
     "name": "stdout",
     "output_type": "stream",
     "text": [
      "\n",
      "35  is an oldest age\n",
      "\n",
      "28  is the Youngest age\n"
     ]
    }
   ],
   "source": [
    "age_1 = int(input(\"Enter your First person age: \"))\n",
    "age_2 = int(input(\"Enter your Second person age: \"))\n",
    "age_3 = int(input(\"Enter your Third person age: \"))\n",
    "\n",
    "\n",
    "if age_1 > age_2 and age_1 > age_3:\n",
    "    Oldest_age = age_1\n",
    "elif age_2 > age_1 and age_2 > age_3:\n",
    "    Oldest_age = age_2\n",
    "else:\n",
    "    Oldest_age = age_3\n",
    "\n",
    "print(f\"\\n{Oldest_age}  is an oldest age\")\n",
    "\n",
    "if age_1 < age_2 and age_1 < age_3:\n",
    "    Youngest_age = age_1\n",
    "elif age_2 < age_1 and age_2 < age_3:\n",
    "    Youngest_age = age_2\n",
    "else:\n",
    "    Youngest_age = age_3\n",
    "\n",
    "print(f\"\\n{Youngest_age}  is the Youngest age\")\n"
   ]
  }
 ],
 "metadata": {
  "kernelspec": {
   "display_name": "Python 3 (ipykernel)",
   "language": "python",
   "name": "python3"
  },
  "language_info": {
   "codemirror_mode": {
    "name": "ipython",
    "version": 3
   },
   "file_extension": ".py",
   "mimetype": "text/x-python",
   "name": "python",
   "nbconvert_exporter": "python",
   "pygments_lexer": "ipython3",
   "version": "3.12.7"
  }
 },
 "nbformat": 4,
 "nbformat_minor": 4
}
