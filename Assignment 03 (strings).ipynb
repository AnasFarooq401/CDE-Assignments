{
 "cells": [
  {
   "cell_type": "markdown",
   "id": "8ba9d426-00bc-44fd-b158-8c40bac42cf6",
   "metadata": {},
   "source": [
    "### Assignment 03 (strings)"
   ]
  },
  {
   "cell_type": "code",
   "execution_count": 3,
   "id": "458d3910-ea72-4993-aa17-165793cb0223",
   "metadata": {},
   "outputs": [],
   "source": [
    "# 1. Write a program that accepts a string from user. Your program should count and display number of vowels in that string.\n",
    "\n",
    "# Resolved without LIST[]"
   ]
  },
  {
   "cell_type": "code",
   "execution_count": 4,
   "id": "bf517070-7101-4235-9590-d588a9db7bfe",
   "metadata": {},
   "outputs": [
    {
     "name": "stdin",
     "output_type": "stream",
     "text": [
      "Enter a string:  ANAS\n"
     ]
    },
    {
     "name": "stdout",
     "output_type": "stream",
     "text": [
      "Number of vowels: 2\n"
     ]
    }
   ],
   "source": [
    "# Get input from user\n",
    "user_input = input(\"Enter a string: \")\n",
    "\n",
    "# Define vowels (both lowercase and uppercase)\n",
    "vowels = \"aeiouAEIOU\"\n",
    "\n",
    "# Initialize vowel count\n",
    "count = 0\n",
    "\n",
    "# Loop through each character in the string\n",
    "for char in user_input:\n",
    "    if char in vowels:  # Check if the character is a vowel\n",
    "        count += 1  # Increase the count\n",
    "\n",
    "# Display the final count of vowels (outside the loop)\n",
    "print(\"Number of vowels:\", count)"
   ]
  },
  {
   "cell_type": "code",
   "execution_count": 5,
   "id": "0cadbe25-95fc-428f-9fbe-313544ec5b59",
   "metadata": {},
   "outputs": [],
   "source": [
    "# 1. Write a program that accepts a string from user. Your program should count and display number of vowels in that string.\n",
    "\n",
    "# Resolved with LIST[]"
   ]
  },
  {
   "cell_type": "code",
   "execution_count": 7,
   "id": "cfb6e668-74fc-4b66-a522-383bab12184c",
   "metadata": {},
   "outputs": [
    {
     "name": "stdin",
     "output_type": "stream",
     "text": [
      "Enter a string:  ANAS\n"
     ]
    },
    {
     "name": "stdout",
     "output_type": "stream",
     "text": [
      "String ( ANAS ) has/Have 2 vowels\n"
     ]
    }
   ],
   "source": [
    "user_input = input(\"Enter a string: \")\n",
    "\n",
    "vowels = ['a','e','i','o','u','A','E','I','O','U']\n",
    "\n",
    "count = 0\n",
    "\n",
    "for char in user_input:\n",
    "    if char in vowels:\n",
    "        count += 1\n",
    "\n",
    "print(\"String\", \"(\",user_input,\")\", \"has/Have\", count, \"vowels\")"
   ]
  },
  {
   "cell_type": "code",
   "execution_count": 8,
   "id": "c090f3d6-e8f9-477f-8a71-f76a6a068379",
   "metadata": {},
   "outputs": [],
   "source": [
    "# 2. Write a program that reads a string from keyboard and display:\n",
    "# The number of uppercase letters in the string\n",
    "# The number of lowercase letters in the string\n",
    "# The number of digits in the string\n",
    "# The number of whitespace characters in the string\n",
    "\n",
    "# without list"
   ]
  },
  {
   "cell_type": "code",
   "execution_count": 9,
   "id": "cb42113f-e1b2-4b4f-ad32-3752fe74b735",
   "metadata": {},
   "outputs": [
    {
     "name": "stdin",
     "output_type": "stream",
     "text": [
      "Enter a string:  My name is ANAS this is my cell no: 03482180109\n"
     ]
    },
    {
     "name": "stdout",
     "output_type": "stream",
     "text": [
      "Number of uppercase letters: 5\n",
      "Number of lowercase letters: 21\n",
      "Number of digits: 11\n",
      "Number of whitespace characters: 9\n"
     ]
    }
   ],
   "source": [
    "user_input = input(\"Enter a string: \")\n",
    "\n",
    "uppercase_count = 0\n",
    "lower_count = 0\n",
    "digits_count = 0\n",
    "whitespace_count = 0\n",
    "\n",
    "for char in user_input:\n",
    "    if char.isupper():\n",
    "        uppercase_count += 1\n",
    "    elif char.islower():\n",
    "        lower_count += 1\n",
    "    elif char.isdigit():\n",
    "        digits_count += 1\n",
    "    elif char.isspace():\n",
    "        whitespace_count += 1\n",
    "\n",
    "print(\"Number of uppercase letters:\", uppercase_count)\n",
    "print(\"Number of lowercase letters:\", lower_count)\n",
    "print(\"Number of digits:\", digits_count)\n",
    "print(\"Number of whitespace characters:\", whitespace_count)"
   ]
  },
  {
   "cell_type": "code",
   "execution_count": 10,
   "id": "5007fdd6-e1b1-4501-91f1-6609d4f2e3fe",
   "metadata": {},
   "outputs": [],
   "source": [
    "# 2. Write a program that reads a string from keyboard and display:\n",
    "# The number of uppercase letters in the string\n",
    "# The number of lowercase letters in the string\n",
    "# The number of digits in the string\n",
    "# The number of whitespace characters in the string\n",
    "\n",
    "# Resolved through List"
   ]
  },
  {
   "cell_type": "code",
   "execution_count": 11,
   "id": "cc5d0ca6-db1c-44d6-b134-9895916e63ae",
   "metadata": {},
   "outputs": [
    {
     "name": "stdin",
     "output_type": "stream",
     "text": [
      "Enter a string:  My name is ANAS this is my cell no: 03482180109\n"
     ]
    },
    {
     "name": "stdout",
     "output_type": "stream",
     "text": [
      "Number of uppercase letters: 5\n",
      "Number of lowercase letters: 21\n",
      "Number of digits letters: 11\n",
      "Number of whitespace letters: 9\n"
     ]
    }
   ],
   "source": [
    "user_input = input(\"Enter a string: \")\n",
    "\n",
    "uppercase_count = []\n",
    "lowercase_count = []\n",
    "digits_count = []\n",
    "whitespace_count = []\n",
    "\n",
    "\n",
    "for char in user_input:\n",
    "    if char.isupper():\n",
    "        uppercase_count.append(char)\n",
    "    elif char.islower():\n",
    "        lowercase_count.append(char)\n",
    "    elif char.isdigit():\n",
    "        digits_count.append(char)\n",
    "    elif char.isspace():\n",
    "        whitespace_count.append(char)\n",
    "\n",
    "print(\"Number of uppercase letters:\", len(uppercase_count))\n",
    "print(\"Number of lowercase letters:\", len(lowercase_count))\n",
    "print(\"Number of digits letters:\", len(digits_count))\n",
    "print(\"Number of whitespace letters:\", len(whitespace_count))"
   ]
  },
  {
   "cell_type": "code",
   "execution_count": 12,
   "id": "3e1f78ee-2586-42be-a7df-3c6dd079dbc3",
   "metadata": {},
   "outputs": [],
   "source": [
    "# 3. Write a Python program that accepts a string from user. Your program should create and display a\n",
    "# new string where the first and last characters have been exchanged."
   ]
  },
  {
   "cell_type": "code",
   "execution_count": 14,
   "id": "68f8ad99-974b-45da-b866-4efbb3fc459b",
   "metadata": {},
   "outputs": [
    {
     "name": "stdin",
     "output_type": "stream",
     "text": [
      "Enter a string:  HELLO\n"
     ]
    },
    {
     "name": "stdout",
     "output_type": "stream",
     "text": [
      "New Strings:  OELLH\n"
     ]
    }
   ],
   "source": [
    "user_input = input(\"Enter a string: \")\n",
    "\n",
    "if len(user_input) <= 1:\n",
    "    new_string = user_input\n",
    "else:\n",
    "    new_string = user_input [-1] + user_input[1:-1] + user_input[0]\n",
    "\n",
    "print(\"New Strings: \", new_string)"
   ]
  },
  {
   "cell_type": "code",
   "execution_count": 15,
   "id": "1f86191a-5e52-49dd-8c6c-b16f21c6b0d6",
   "metadata": {},
   "outputs": [],
   "source": [
    "# 4. Write a Python program that accepts a string from user. Your program should create a new string in reverse of first string and display it.\n",
    "#    For example if the user enters the string 'EXAM' then new string would be 'MAXE'"
   ]
  },
  {
   "cell_type": "code",
   "execution_count": 16,
   "id": "77261e6f-6221-42d7-aaef-f2f6265faf08",
   "metadata": {},
   "outputs": [
    {
     "name": "stdin",
     "output_type": "stream",
     "text": [
      "Enter a string:  EXAM\n"
     ]
    },
    {
     "name": "stdout",
     "output_type": "stream",
     "text": [
      "New String:  MAXE\n"
     ]
    }
   ],
   "source": [
    "user_input = input(\"Enter a string: \")\n",
    "\n",
    "if len(user_input) <= 1:\n",
    "    new_string = user_input\n",
    "else:\n",
    "    new_string = user_input[::-1]\n",
    "\n",
    "print(\"New String: \", new_string)"
   ]
  },
  {
   "cell_type": "code",
   "execution_count": 17,
   "id": "c7296cf4-da61-47c5-bc31-7b7c06e1a85b",
   "metadata": {},
   "outputs": [],
   "source": [
    "# 5. Write a Python program that accepts a string from user. Your program should create a new string by shifting one position to left.\n",
    "#    For example if the user enters the string 'examination 2021' then new string would be 'xamination 2021e'"
   ]
  },
  {
   "cell_type": "code",
   "execution_count": 18,
   "id": "891efb96-4378-406e-83a1-c7e200eddede",
   "metadata": {},
   "outputs": [
    {
     "name": "stdin",
     "output_type": "stream",
     "text": [
      "Enter a string:  examination 2021\n"
     ]
    },
    {
     "name": "stdout",
     "output_type": "stream",
     "text": [
      "New String:  xamination 2021e\n"
     ]
    }
   ],
   "source": [
    "user_input = input(\"Enter a string: \")\n",
    "\n",
    "\n",
    "if len(user_input) <= 1:\n",
    "    new_string = user_input\n",
    "else:\n",
    "    new_string = user_input[1:] + user_input[0]\n",
    "\n",
    "print(\"New String: \", new_string)"
   ]
  },
  {
   "cell_type": "code",
   "execution_count": 19,
   "id": "13b9ed94-4d61-4d46-8fd8-d55ccba87b0f",
   "metadata": {},
   "outputs": [],
   "source": [
    "# 6. Write a program that asks the user to input his name and print its initials. Assuming that the user\n",
    "# always types first name, middle name and last name and does not include any unnecessary spaces.\n",
    "# For example, if the user enters Ajay Kumar Garg the program should display A. K. G.\n",
    "# Note:Don't use split() method"
   ]
  },
  {
   "cell_type": "code",
   "execution_count": 20,
   "id": "72a47c91-5a16-4aa0-afe7-d3b7487dc06f",
   "metadata": {},
   "outputs": [
    {
     "name": "stdin",
     "output_type": "stream",
     "text": [
      "Enter a full name here:  Ajay Kumar Garg\n"
     ]
    },
    {
     "name": "stdout",
     "output_type": "stream",
     "text": [
      "initials:  A. K. G.\n"
     ]
    }
   ],
   "source": [
    "name = input(\"Enter a full name here: \")\n",
    "\n",
    "initials = name [0] + '.'\n",
    "\n",
    "for i in range(1, len(name)):\n",
    "    if name[i] == ' ':\n",
    "        initials += ' ' + name[i + 1] + '.'\n",
    "\n",
    "print(\"initials: \", initials)"
   ]
  },
  {
   "cell_type": "code",
   "execution_count": 21,
   "id": "c64b2fee-fbf6-4fe7-956f-5ebb531ddfb6",
   "metadata": {},
   "outputs": [],
   "source": [
    "# 7. A palindrome is a string that reads the same backward as forward. For example, the words dad,\n",
    "#    madam and radar are all palindromes. Write a programs that determines whether the string is a palindrome.\n",
    "#    Note: do not use reverse() method"
   ]
  },
  {
   "cell_type": "code",
   "execution_count": 22,
   "id": "2e39b713-ef70-4da4-b92b-c09ded7bce26",
   "metadata": {},
   "outputs": [
    {
     "name": "stdin",
     "output_type": "stream",
     "text": [
      "Enter a string:  DAD\n"
     ]
    },
    {
     "name": "stdout",
     "output_type": "stream",
     "text": [
      "The string is a palindrome.\n"
     ]
    }
   ],
   "source": [
    "user_input = input(\"Enter a string: \").lower()\n",
    "\n",
    "\n",
    "length = len(user_input)\n",
    "\n",
    "\n",
    "for i in range(length // 2):\n",
    "    if user_input[i] != user_input[length - i - 1]:\n",
    "        print(\"The string is NOT a palindrome.\")\n",
    "        break  # Exit loop as soon as a mismatch is foundb\n",
    "else:\n",
    "    print(\"The string is a palindrome.\")"
   ]
  },
  {
   "cell_type": "code",
   "execution_count": 23,
   "id": "b4665a7d-a2bd-4ff7-86cc-634e25b6fcb4",
   "metadata": {},
   "outputs": [],
   "source": [
    "# 8. Write a program that display following output:\n",
    "# SHIFT\n",
    "# HIFTS\n",
    "# IFTSH\n",
    "# FTSHI\n",
    "# TSHIF\n",
    "# SHIFT"
   ]
  },
  {
   "cell_type": "code",
   "execution_count": 24,
   "id": "c760c873-2277-46d7-8b9a-193daacdeedd",
   "metadata": {},
   "outputs": [
    {
     "name": "stdout",
     "output_type": "stream",
     "text": [
      "SHIFT\n",
      "TSHIF\n",
      "FTSHI\n",
      "IFTSH\n",
      "HIFTS\n",
      "SHIFT\n"
     ]
    }
   ],
   "source": [
    "# Original string\n",
    "word = \"SHIFT\"\n",
    "\n",
    "# Print all shifted versions\n",
    "for i in range(len(word)):\n",
    "    print(word)  # Print the current version\n",
    "    word = word[-1] + word[:-1]  # Last character ko first position par shift karna\n",
    "\n",
    "# Print original string again at the end\n",
    "print(\"SHIFT\")"
   ]
  },
  {
   "cell_type": "code",
   "execution_count": 25,
   "id": "f3dfac55-ffe6-49be-90f0-648fa33096bf",
   "metadata": {},
   "outputs": [],
   "source": [
    "# 9. Write a program in python that accepts a string to setup a passwords. Your entered password must\n",
    "# meet the following requirements:\n",
    "# The password must be at least eight characters long.\n",
    "# It must contain at least one uppercase letter.\n",
    "# It must contain at least one lowercase letter.\n",
    "# It must contain at least one numeric digit.\n",
    "# Your program should should perform this validation."
   ]
  },
  {
   "cell_type": "code",
   "execution_count": 26,
   "id": "377340d5-b807-4843-ad27-0890f3fd0a7d",
   "metadata": {},
   "outputs": [
    {
     "name": "stdin",
     "output_type": "stream",
     "text": [
      "Enter your password:  Anas123456789\n"
     ]
    },
    {
     "name": "stdout",
     "output_type": "stream",
     "text": [
      "Password is valid.\n"
     ]
    }
   ],
   "source": [
    "def is_valid_password(password):\n",
    "    if len(password) < 8:\n",
    "        return \"Invalid: Password must be at least 8 characters long.\"\n",
    "\n",
    "    has_upper = False\n",
    "    has_lower = False\n",
    "    has_digit = False\n",
    "\n",
    "    for char in password:\n",
    "        if char.isupper():\n",
    "            has_upper = True\n",
    "        elif char.islower():\n",
    "            has_lower = True\n",
    "        elif char.isdigit():\n",
    "            has_digit = True\n",
    "\n",
    "    if has_upper and has_lower and has_digit:\n",
    "        return \"Password is valid.\"\n",
    "    else:\n",
    "        return \"Invalid: Password must contain at least one uppercase letter, one lowercase letter, and one digit.\"\n",
    "\n",
    "# Get input from user\n",
    "user_password = input(\"Enter your password: \")\n",
    "print(is_valid_password(user_password))\n"
   ]
  }
 ],
 "metadata": {
  "kernelspec": {
   "display_name": "Python 3 (ipykernel)",
   "language": "python",
   "name": "python3"
  },
  "language_info": {
   "codemirror_mode": {
    "name": "ipython",
    "version": 3
   },
   "file_extension": ".py",
   "mimetype": "text/x-python",
   "name": "python",
   "nbconvert_exporter": "python",
   "pygments_lexer": "ipython3",
   "version": "3.12.7"
  }
 },
 "nbformat": 4,
 "nbformat_minor": 5
}
