{
 "cells": [
  {
   "cell_type": "markdown",
   "metadata": {},
   "source": [
    "# Part -1 Python Basics (Variables)"
   ]
  },
  {
   "cell_type": "markdown",
   "metadata": {},
   "source": [
    "1. Print Your Name with your Father name and Date of birth using suitable escape sequence charactor"
   ]
  },
  {
   "cell_type": "code",
   "execution_count": 1,
   "metadata": {},
   "outputs": [
    {
     "name": "stdout",
     "output_type": "stream",
     "text": [
      "Name:\t\tMuhammad Anas\n",
      "Father Name:\tMuhammad Farooq\n",
      "DOB\t\t25-01-1994\n"
     ]
    }
   ],
   "source": [
    "print(\"Name:\\t\\tMuhammad Anas\\nFather Name:\\tMuhammad Farooq\\nDOB\\t\\t25-01-1994\")"
   ]
  },
  {
   "cell_type": "markdown",
   "metadata": {},
   "source": [
    "2. Write your small bio using variables and print it using print function"
   ]
  },
  {
   "cell_type": "code",
   "execution_count": 2,
   "metadata": {},
   "outputs": [
    {
     "name": "stdout",
     "output_type": "stream",
     "text": [
      "I've completed my BS from KU, Now worinkg as an ETL Develpor in E-Creatorz\n"
     ]
    }
   ],
   "source": [
    "bio_details = \"I've completed my BS from KU, Now worinkg as an ETL Develpor in E-Creatorz\"\n",
    "print(bio_details)"
   ]
  },
  {
   "cell_type": "markdown",
   "metadata": {},
   "source": [
    "3. Write a program in which use all the operators we can use in Python"
   ]
  },
  {
   "cell_type": "code",
   "execution_count": 3,
   "metadata": {},
   "outputs": [
    {
     "name": "stdout",
     "output_type": "stream",
     "text": [
      "Arithmetic Operators:\n",
      "Addition: 50\n",
      "Subtraction: 10\n",
      "Multipilicatoin: 600\n",
      "Dividion: 3.3333333333333335\n",
      "Floor Division: 3\n",
      "Modulus: 1\n",
      "Exponentiation: 1000\n",
      "\n",
      "Comparison Operators:\n",
      "Equal: False\n",
      "Not Equal: True\n",
      "Greater Then: True\n",
      "Less Then: False\n",
      "Less Then Equal to: True\n",
      "Less Then Equal to: False\n"
     ]
    }
   ],
   "source": [
    "# Arithmetic Operators\n",
    "\n",
    "x = 20\n",
    "y = 30\n",
    "\n",
    "print(\"Arithmetic Operators:\")\n",
    "print(\"Addition:\", x + y)\n",
    "print(\"Subtraction:\", y - x)\n",
    "print(\"Multipilicatoin:\", x * y)\n",
    "\n",
    "a = 10\n",
    "b = 3\n",
    "\n",
    "print(\"Dividion:\", a / b)        \n",
    "print(\"Floor Division:\", a // b)\n",
    "print(\"Modulus:\", a % b)\n",
    "print(\"Exponentiation:\", a ** b)\n",
    "                                 \n",
    "\n",
    "# 2. Comparison Operators\n",
    "\n",
    "print(\"\\nComparison Operators:\")\n",
    "print(\"Equal:\", a == b)\n",
    "print(\"Not Equal:\", a != b)\n",
    "print(\"Greater Then:\", a > b)\n",
    "print(\"Less Then:\", a < b)\n",
    "print(\"Less Then Equal to:\", a >= b)\n",
    "print(\"Less Then Equal to:\", a <= b)"
   ]
  },
  {
   "cell_type": "markdown",
   "metadata": {},
   "source": [
    "4. Completes the following steps of small task:\n",
    "    - Mention Marks of English , Islamiat and Maths out of 100 in 3 different variables\n",
    "    - Mention Variable of Total Marks and assign 300 to it\n",
    "    - Calculate Percentage"
   ]
  },
  {
   "cell_type": "code",
   "execution_count": 1,
   "metadata": {},
   "outputs": [
    {
     "name": "stdout",
     "output_type": "stream",
     "text": [
      "Total_Marks 300\n",
      "Obtain_Marks 250\n",
      "Overall_Percentage 83.33333333333334\n"
     ]
    }
   ],
   "source": [
    "Islamiat_Marks = 90\n",
    "English_Marks = 85\n",
    "Maths_Marks = 75\n",
    "Total_Marks = 300\n",
    "Obtain_Marks = Islamiat_Marks + English_Marks + Maths_Marks\n",
    "Overall_Percentage = Obtain_Marks / Total_Marks * 100\n",
    "\n",
    "print(\"Total_Marks\", Total_Marks)\n",
    "print(\"Obtain_Marks\", Obtain_Marks)\n",
    "print(\"Overall_Percentage\", Overall_Percentage)\n",
    "\n"
   ]
  },
  {
   "cell_type": "markdown",
   "metadata": {},
   "source": [
    "# Part -2 Python Basics (Conditional Statements)"
   ]
  },
  {
   "cell_type": "markdown",
   "metadata": {},
   "source": [
    "1) A company decided to give bonus of 5% to employee if his/her year of service is more than 5 years.\n",
    "Ask user for their salary and year of service and print the net bonus amount."
   ]
  },
  {
   "cell_type": "code",
   "execution_count": 4,
   "metadata": {},
   "outputs": [
    {
     "name": "stdin",
     "output_type": "stream",
     "text": [
      "Enter your service duratoin  6\n",
      "Enter your salary  50000\n"
     ]
    },
    {
     "name": "stdout",
     "output_type": "stream",
     "text": [
      "Congratulations! You are able to get bonus.:  2500.0\n"
     ]
    }
   ],
   "source": [
    "user_exp = float(input(\"Enter your service duratoin \"))\n",
    "Emp_Salary = int(input(\"Enter your salary \"))\n",
    "\n",
    "\n",
    "if user_exp > 5:\n",
    "    bonus = Emp_Salary * 0.05\n",
    "    print(\"Congratulations! You are able to get bonus.: \", bonus)\n",
    "else:\n",
    "    print(\"Sorry, You are not able to get bonus.\")"
   ]
  },
  {
   "cell_type": "markdown",
   "metadata": {},
   "source": [
    "\n",
    "2) Write a program to check whether a person is eligible for voting or not. (accept age from user) if age is greater than 17 eligible otherwise not eligible"
   ]
  },
  {
   "cell_type": "code",
   "execution_count": 7,
   "metadata": {},
   "outputs": [
    {
     "name": "stdin",
     "output_type": "stream",
     "text": [
      "Please Enter your age:  18\n"
     ]
    },
    {
     "name": "stdout",
     "output_type": "stream",
     "text": [
      "Glad to see that, because you are eligible for voting\n"
     ]
    }
   ],
   "source": [
    "user_age = int(input(\"Please Enter your age: \" ))\n",
    "\n",
    "if user_age > 17:\n",
    "    print(\"Glad to see that, because you are eligible for voting\")\n",
    "else:\n",
    "    print(\"We apologies, because you are not eligible for voting\")"
   ]
  },
  {
   "cell_type": "markdown",
   "metadata": {},
   "source": [
    "\n",
    "3) Write a program to check whether a number entered by user is even or odd."
   ]
  },
  {
   "cell_type": "code",
   "execution_count": 8,
   "metadata": {},
   "outputs": [
    {
     "name": "stdin",
     "output_type": "stream",
     "text": [
      "Put a number:  5\n"
     ]
    },
    {
     "name": "stdout",
     "output_type": "stream",
     "text": [
      "Odd Number\n"
     ]
    }
   ],
   "source": [
    "user_number = int(input(\"Put a number: \"))\n",
    "\n",
    "if user_number % 2 == 0:\n",
    "    print(\"Even Number\")\n",
    "else:\n",
    "    print(\"Odd Number\")"
   ]
  },
  {
   "cell_type": "markdown",
   "metadata": {},
   "source": [
    "4) Write a program to check whether a number is divisible by 7 or not.\n",
    "Show Answer"
   ]
  },
  {
   "cell_type": "code",
   "execution_count": 10,
   "metadata": {},
   "outputs": [
    {
     "name": "stdin",
     "output_type": "stream",
     "text": [
      "Enter a number:  17\n",
      "Enter a divisor:  17\n"
     ]
    },
    {
     "name": "stdout",
     "output_type": "stream",
     "text": [
      "It's divisible no\n"
     ]
    }
   ],
   "source": [
    "num = int(input(\"Enter a number: \"))\n",
    "divisor = int(input(\"Enter a divisor: \"))\n",
    "\n",
    "if num % divisor == 0:\n",
    "    print(\"It's divisible no\")\n",
    "else:\n",
    "    print(\"It isn't divisible no\")"
   ]
  },
  {
   "cell_type": "markdown",
   "metadata": {},
   "source": [
    "5) Write a program to display \n",
    "\"Hello\" if a number entered by user is a multiple of five , otherwise print \"Bye\"."
   ]
  },
  {
   "cell_type": "code",
   "execution_count": 11,
   "metadata": {},
   "outputs": [
    {
     "name": "stdin",
     "output_type": "stream",
     "text": [
      "Enter a number:  25\n"
     ]
    },
    {
     "name": "stdout",
     "output_type": "stream",
     "text": [
      "Hello!\n"
     ]
    }
   ],
   "source": [
    "num = int(input(\"Enter a number: \"))\n",
    "\n",
    "if num % 5 == 0:\n",
    "    print(\"Hello!\")\n",
    "else:\n",
    "    print(\"Bye.\")\n"
   ]
  },
  {
   "cell_type": "markdown",
   "metadata": {},
   "source": [
    "7) Write a program to display the last digit of a number.\n"
   ]
  },
  {
   "cell_type": "code",
   "execution_count": 12,
   "metadata": {},
   "outputs": [
    {
     "name": "stdin",
     "output_type": "stream",
     "text": [
      "Add your number: 89\n"
     ]
    },
    {
     "name": "stdout",
     "output_type": "stream",
     "text": [
      "Your last digit is 9\n"
     ]
    }
   ],
   "source": [
    "add_number = int(input(\"Add your number:\" ))\n",
    "last_digit = add_number % 10\n",
    "print(\"Your last digit is\", last_digit)"
   ]
  },
  {
   "cell_type": "markdown",
   "metadata": {},
   "source": [
    "9) Take values of length and breadth of a rectangle from user and print if it is square or rectangle."
   ]
  },
  {
   "cell_type": "code",
   "execution_count": 13,
   "metadata": {},
   "outputs": [
    {
     "name": "stdin",
     "output_type": "stream",
     "text": [
      "Enter the lenght:  5\n",
      "Enter the breadth:  5\n"
     ]
    },
    {
     "name": "stdout",
     "output_type": "stream",
     "text": [
      "It's a Square\n"
     ]
    }
   ],
   "source": [
    "lenght = int(input(\"Enter the lenght: \"))\n",
    "breadth = int(input(\"Enter the breadth: \"))\n",
    "\n",
    "if lenght == breadth:\n",
    "    print(\"It's a Square\")\n",
    "else:\n",
    "    print(\"It's a rectangle\")"
   ]
  },
  {
   "cell_type": "markdown",
   "metadata": {},
   "source": [
    "10) Take two int values from user and print greatest among them."
   ]
  },
  {
   "cell_type": "code",
   "execution_count": 16,
   "metadata": {},
   "outputs": [
    {
     "name": "stdin",
     "output_type": "stream",
     "text": [
      "Enter first value:  5\n",
      "Enter second value:  5\n"
     ]
    },
    {
     "name": "stdout",
     "output_type": "stream",
     "text": [
      "5 - 5 Both are equal\n"
     ]
    }
   ],
   "source": [
    "first_value = int(input(\"Enter first value: \"))\n",
    "second_value = int(input(\"Enter second value: \"))\n",
    "\n",
    "if first_value > second_value:\n",
    "    print(first_value, \"Your first no is bigger then second\")\n",
    "elif second_value > first_value:\n",
    "    print(second_value, \"Your second no is bigger then first\")\n",
    "else:\n",
    "    print(first_value, \"-\", second_value,\"Both are equal\")"
   ]
  },
  {
   "cell_type": "markdown",
   "metadata": {},
   "source": [
    "11) A shop will give discount of 10% if the cost of purchased quantity is more than 1000.\n",
    "Ask user for quantity\n",
    "Suppose, one unit will cost 100.\n",
    "Judge and print total cost for user."
   ]
  },
  {
   "cell_type": "code",
   "execution_count": 17,
   "metadata": {},
   "outputs": [
    {
     "name": "stdin",
     "output_type": "stream",
     "text": [
      "Total Units:  990\n"
     ]
    },
    {
     "name": "stdout",
     "output_type": "stream",
     "text": [
      "Cost Per Unit 100\n",
      "Actual Cost of units 99000\n"
     ]
    }
   ],
   "source": [
    "Purch_Quantity = int(input(\"Total Units: \"))\n",
    "cost_per_unit = 100\n",
    "total_cost = Purch_Quantity * cost_per_unit\n",
    "\n",
    "if Purch_Quantity > 1000:\n",
    "    discount = total_cost * 10 / 100\n",
    "    final_cost = total_cost - discount\n",
    "    print(\"Cost Per Unit\", cost_per_unit)\n",
    "    print(\"Actual Cost of units\", total_cost)\n",
    "    print(\"Less discount\", discount)\n",
    "    print(\"After 10% discounted amount is\", final_cost)\n",
    "else:\n",
    "    print(\"Cost Per Unit\", cost_per_unit)\n",
    "    print(\"Actual Cost of units\", total_cost)"
   ]
  },
  {
   "cell_type": "markdown",
   "metadata": {},
   "source": [
    "12) A school has following rules for grading system:\n",
    "\n",
    "a. Below 25 - F\n",
    "\n",
    "b. 25 to 45 - E\n",
    "\n",
    "c. 45 to 50 - D\n",
    "\n",
    "d. 50 to 60 - C\n",
    "\n",
    "e. 60 to 80 - B\n",
    "\n",
    "f. Above 80 - A\n",
    "\n",
    "Ask user to enter marks and print the corresponding grade."
   ]
  },
  {
   "cell_type": "code",
   "execution_count": 18,
   "metadata": {},
   "outputs": [
    {
     "name": "stdin",
     "output_type": "stream",
     "text": [
      "Enter your marks 81\n"
     ]
    },
    {
     "name": "stdout",
     "output_type": "stream",
     "text": [
      "A\n"
     ]
    }
   ],
   "source": [
    "marks = int(input(\"Enter your marks\"))\n",
    "\n",
    "if marks > 80:\n",
    "    print(\"A\")\n",
    "elif marks > 60 and marks <=80:\n",
    "    print(\"B\")\n",
    "elif marks > 50 and marks <=60:\n",
    "    print(\"C\")\n",
    "elif marks > 45 and marks <=50:\n",
    "    print(\"D\")\n",
    "elif marks > 25 and marks <=45:\n",
    "    print(\"E\")\n",
    "else:\n",
    "    print(\"F\")"
   ]
  },
  {
   "cell_type": "markdown",
   "metadata": {},
   "source": [
    "14)A student will not be allowed to sit in exam if his/her attendence is less than 75%.\n",
    "\n",
    "Take following input from user\n",
    "\n",
    "- Number of classes held\n",
    "\n",
    "- Number of classes attended.\n",
    "\n",
    "And print\n",
    "\n",
    "- percentage of class attended\n",
    "\n",
    "- Is student is allowed to sit in exam or not.\n"
   ]
  },
  {
   "cell_type": "code",
   "execution_count": 22,
   "metadata": {},
   "outputs": [
    {
     "name": "stdin",
     "output_type": "stream",
     "text": [
      "Total class held:  50\n",
      "Total class attended:  40\n"
     ]
    },
    {
     "name": "stdout",
     "output_type": "stream",
     "text": [
      "Attendance Percentage 80.0 %\n",
      "Allowed to sit in exam.\n"
     ]
    }
   ],
   "source": [
    "classes_held = int(input(\"Total class held: \"))\n",
    "classes_attended = int(input(\"Total class attended: \"))\n",
    "\n",
    "attendance = (classes_attended / classes_held) * 100\n",
    "print(\"Attendance Percentage\", attendance, \"%\")\n",
    "\n",
    "if attendance <= 75:\n",
    "    print(\"Not allowed to sit in exam.\")\n",
    "else:\n",
    "    print(\"Allowed to sit in exam.\")"
   ]
  },
  {
   "cell_type": "markdown",
   "metadata": {},
   "source": [
    "15) Modify the above question to allow student to sit if he/she has medical cause. Ask user if he/she has medical cause or not ( 'Y' or 'N' ) and print accordingly."
   ]
  },
  {
   "cell_type": "code",
   "execution_count": 25,
   "metadata": {},
   "outputs": [
    {
     "name": "stdin",
     "output_type": "stream",
     "text": [
      "Enter total number of classes held:  60\n",
      "Enter number of classes attended:  45\n"
     ]
    },
    {
     "name": "stdout",
     "output_type": "stream",
     "text": [
      "Attendance Percentage 75.0 %\n"
     ]
    },
    {
     "name": "stdin",
     "output_type": "stream",
     "text": [
      "Do you have a medical cause? (Y/N):  N\n"
     ]
    },
    {
     "name": "stdout",
     "output_type": "stream",
     "text": [
      "Allowed to sit in exam.\n"
     ]
    }
   ],
   "source": [
    "NumberOfClass = int(input(\"Enter total number of classes held: \"))\n",
    "NumberOfClassAtend = int(input(\"Enter number of classes attended: \"))\n",
    "\n",
    "attendance = (NumberOfClassAtend / NumberOfClass) * 100\n",
    "print(\"Attendance Percentage\", attendance, \"%\")\n",
    "\n",
    "if attendance < 75:\n",
    "    print(\"Not allowed to sit in exam.\")\n",
    "else:\n",
    "    MedicalCasuse = input(\"Do you have a medical cause? (Y/N): \")\n",
    "    if MedicalCasuse == 'Y':\n",
    "        print(\"Allowed to sit in exam due to medical cause.\")\n",
    "    else:\n",
    "        print(\"Allowed to sit in exam.\")"
   ]
  },
  {
   "cell_type": "markdown",
   "metadata": {},
   "source": [
    "16) Write a program to check if a year is leap year or not.\n",
    "\n",
    "If a year is divisible by 4 then it is leap year but if the year is century year like 2000, 1900, 2100 then it must be divisible by 400."
   ]
  },
  {
   "cell_type": "code",
   "execution_count": 28,
   "metadata": {},
   "outputs": [
    {
     "name": "stdin",
     "output_type": "stream",
     "text": [
      "Enter the year 40\n"
     ]
    },
    {
     "name": "stdout",
     "output_type": "stream",
     "text": [
      "40 Your year is century year \n"
     ]
    }
   ],
   "source": [
    "year = int(input(\"Enter the year\"))\n",
    "\n",
    "if year %4:\n",
    "    print (year , \"Your year is leep year\")\n",
    "elif year %400:\n",
    "    print (year,\"Your year is century year \")\n",
    "else:\n",
    "    print (\" your year is:\", year)"
   ]
  },
  {
   "cell_type": "markdown",
   "metadata": {},
   "source": [
    "17) Ask user to enter age, gender ( M or F ), marital status ( Y or N ) and then using following rules print their place of service.\n",
    "\n",
    "if employee is female, then she will work only in urban areas.\n",
    "\n",
    "if employee is a male and age is in between 20 to 40 then he may work in anywhere\n",
    "\n",
    "if employee is male and age is in between 40 t0 60 then he will work in urban areas only.\n",
    "\n",
    "And any other input of age should print \"ERROR\""
   ]
  },
  {
   "cell_type": "code",
   "execution_count": 29,
   "metadata": {},
   "outputs": [
    {
     "name": "stdin",
     "output_type": "stream",
     "text": [
      "Enter your age:  25\n",
      "What's your gender (M/F):  F\n"
     ]
    },
    {
     "name": "stdout",
     "output_type": "stream",
     "text": [
      "You can work only urban areas.\n"
     ]
    }
   ],
   "source": [
    "age = int(input(\"Enter your age: \"))\n",
    "gender = input(\"What's your gender (M/F): \")\n",
    "# marital_status = input(\"Enter your marital status (Y/N): \")\n",
    "\n",
    "\n",
    "if gender == \"F\":\n",
    "    print(\"You can work only urban areas.\")\n",
    "elif age >= 20 and age <=40 and gender == \"M\": \n",
    "    print(\"You can work anywhere areas.\")\n",
    "elif age >= 40 and age <= 60 and gender == \"M\":\n",
    "    print(\"You can work only urban areas.\")\n",
    "else:\n",
    "    print(ERROR)"
   ]
  },
  {
   "cell_type": "markdown",
   "metadata": {},
   "source": [
    "6) Write a program to calculate the electricity bill (accept number of unit from user) according to the following criteria :\n",
    "     Unit                                                     Price  \n",
    "uptp 100 units                                             no charge\n",
    "Next 200 units                                              Rs 5 per unit\n",
    "After 200 units                                             Rs 10 per unit\n",
    "(For example if input unit is 350 than total bill amount is Rs.3500\n",
    "(For example if input unit is 97 than total bill amount is Rs.0\n",
    "(For example if input unit is 150 than total bill amount is Rs.750"
   ]
  },
  {
   "cell_type": "code",
   "execution_count": 30,
   "metadata": {},
   "outputs": [
    {
     "name": "stdin",
     "output_type": "stream",
     "text": [
      "Enter your electricity bill units here:  90\n"
     ]
    },
    {
     "name": "stdout",
     "output_type": "stream",
     "text": [
      "Your total bill amount is 0\n"
     ]
    }
   ],
   "source": [
    "unit_no = int(input(\"Enter your electricity bill units here: \"))\n",
    "\n",
    "if unit_no >= 0 and unit_no <= 100:\n",
    "    print(\"Your total bill amount is 0\")\n",
    "elif unit_no > 100 and unit_no <= 200:\n",
    "    print(\"Your total bill amount is\", unit_no * 5)\n",
    "else:\n",
    "    print(\"Your total bill amount is\", unit_no * 10)"
   ]
  },
  {
   "cell_type": "markdown",
   "metadata": {},
   "source": [
    "13) Take input of age of 3 people by user and determine oldest and youngest among them."
   ]
  },
  {
   "cell_type": "code",
   "execution_count": 31,
   "metadata": {},
   "outputs": [
    {
     "name": "stdin",
     "output_type": "stream",
     "text": [
      "Enter your First brother age 40\n",
      "Enter your Second brother age 35\n",
      "Enter your Third brother age 30\n"
     ]
    },
    {
     "name": "stdout",
     "output_type": "stream",
     "text": [
      "The oldest person is 40 years old.\n",
      "The youngest person is 30 years old.\n"
     ]
    }
   ],
   "source": [
    "age_1 = int(input(\"Enter your First brother age\"))\n",
    "age_2 = int(input(\"Enter your Second brother age\"))\n",
    "age_3 = int(input(\"Enter your Third brother age\"))\n",
    "\n",
    "if age_1 > age_2  and age_1 > age_3:\n",
    "    oldest = age_1\n",
    "elif age_2 > age_1 and age_2  > age_3:\n",
    "    oldest = age_2 \n",
    "else:\n",
    "    oldest = age_3\n",
    "\n",
    "if age_1 < age_2 and age_1 < age_3:\n",
    "    youngest = a1\n",
    "elif age_2  < age_1 and age_2  < age_3:\n",
    "    youngest = age_2 \n",
    "else:\n",
    "    youngest = age_3\n",
    "\n",
    "print(\"The oldest person is\", oldest, \"years old.\")\n",
    "print(\"The youngest person is\", youngest, \"years old.\")"
   ]
  }
 ],
 "metadata": {
  "kernelspec": {
   "display_name": "Python 3 (ipykernel)",
   "language": "python",
   "name": "python3"
  },
  "language_info": {
   "codemirror_mode": {
    "name": "ipython",
    "version": 3
   },
   "file_extension": ".py",
   "mimetype": "text/x-python",
   "name": "python",
   "nbconvert_exporter": "python",
   "pygments_lexer": "ipython3",
   "version": "3.12.7"
  }
 },
 "nbformat": 4,
 "nbformat_minor": 4
}
