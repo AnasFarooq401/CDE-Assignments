{
 "cells": [
  {
   "cell_type": "markdown",
   "id": "4b7db4ff-3e64-4733-b252-c13067a9836d",
   "metadata": {},
   "source": [
    "### Part -1 Python Basics (Variables)"
   ]
  },
  {
   "cell_type": "markdown",
   "id": "e0cdfeac-8e70-429a-a764-bcb9efd94a69",
   "metadata": {},
   "source": [
    "##### 1. Print Your Name with your Father name and Date of birth using suitable escape sequence charactor."
   ]
  },
  {
   "cell_type": "code",
   "execution_count": 1,
   "id": "eeb37c29-4fbf-4242-8698-250e7ff59663",
   "metadata": {},
   "outputs": [],
   "source": [
    "# Common Escape Sequences in Python:\n",
    "# Escape Sequence\tMeaning (Kya Karta Hai?)\t                                Example Output\n",
    "# \\n\t            New Line (Nayi line pe jata hai)\t                        \"Hello\\nWorld\" →\n",
    "# Hello\n",
    "# World\n",
    "\n",
    "# \\t\t            Tab Space (Ek tab ka space deta hai)\t                    \"Hello\\tWorld\" → Hello World\n",
    "# \\\\\t            Backslash (Ek \\ print karta hai)\t                        \"C:\\\\Users\\\\Ali\" → C:\\Users\\Ali\n",
    "# \\'\t            Single Quote (Agar string single quote me likhi ho)\t        'It\\'s a book' → It's a book\n",
    "# \\\"\t            Double Quote (Agar string double quote me likhi ho)\t        \"Ali said \\\"Hello\\\"\" → Ali said \"Hello\"\n",
    "# \\r\t            Carriage Return (Line ki shuruat me wapas le jata hai)\t    \"Hello\\rWorld\" → Worldo\n",
    "# \\b\t            Backspace (Pichla character hata deta hai)\t                \"Helloo\\b World\" → Hello World\n",
    "# \\f\t            Form Feed (New Page jesa effect deta hai)\t                \"Hello\\fWorld\"\n",
    "# \\v\t            Vertical Tab (Line me gap deta hai)\t                        \"Hello\\vWorld\"\n",
    "# \\ooo\t            Octal Value (Octal number ka character show karta hai)\t    \\101 → A\n",
    "# \\xhh\t            Hexadecimal Value (Hex number ka character show karta hai)  \\x41 → A"
   ]
  },
  {
   "cell_type": "code",
   "execution_count": 37,
   "id": "eb347863-a3a0-4dc1-9462-d0b1f89a3d1f",
   "metadata": {},
   "outputs": [
    {
     "name": "stdout",
     "output_type": "stream",
     "text": [
      "Name:\t\tMuhammad Anas\n",
      "Father Name:\tMuhammad Farooq\n",
      "DOB\t\t25-01-1994\n"
     ]
    }
   ],
   "source": [
    "print(\"Name:\\t\\tMuhammad Anas\\nFather Name:\\tMuhammad Farooq\\nDOB\\t\\t25-01-1994\")"
   ]
  },
  {
   "cell_type": "markdown",
   "id": "ec689471-cb35-4845-b809-3a686d36644f",
   "metadata": {},
   "source": [
    "### 2. Write your small bio using variables and print it using print function."
   ]
  },
  {
   "cell_type": "code",
   "execution_count": 10,
   "id": "e2de7511-25ea-4b11-9975-b5153ec9c67b",
   "metadata": {},
   "outputs": [
    {
     "name": "stdout",
     "output_type": "stream",
     "text": [
      "I've completed my BS from KU, Now worinkg as an ETL Develpor in E-Creatorz\n"
     ]
    }
   ],
   "source": [
    "bio_details = \"I've completed my BS from KU, Now worinkg as an ETL Develpor in E-Creatorz\"\n",
    "print(bio_details)"
   ]
  },
  {
   "cell_type": "markdown",
   "id": "1ea3b2e8-cf71-428a-a539-3da2d50e0234",
   "metadata": {},
   "source": [
    "### 3. Write a program in which use all the operators we can use in Python"
   ]
  },
  {
   "cell_type": "code",
   "execution_count": 38,
   "id": "f1b3693f-2b11-4c34-8bc9-8df4822477d6",
   "metadata": {},
   "outputs": [],
   "source": [
    "# Operator\tKaam Kya Karta Hai?\tExample\tOutput\n",
    "# ** (Exponentiation)\tNumber ko power me uthata hai\t3 ** 2\t9 (3 × 3)\n",
    "# % (Modulus)\tDivision ke baad remainder return karta hai\t10 % 3\t1 (10 ÷ 3 ka remainder)"
   ]
  },
  {
   "cell_type": "code",
   "execution_count": 31,
   "id": "a4e8194f-5e96-4c3a-97b9-25bc32d388fe",
   "metadata": {},
   "outputs": [
    {
     "name": "stdout",
     "output_type": "stream",
     "text": [
      "Arithmetic Operators:\n",
      "Addition: 50\n",
      "Subtraction: 10\n",
      "Multipilicatoin: 600\n",
      "Dividion: 3.3333333333333335\n",
      "Floor Division: 3\n",
      "Modulus: 1\n",
      "Exponentiation: 1000\n",
      "\n",
      "Comparison Operators:\n",
      "Equal: False\n",
      "Not Equal: True\n",
      "Greater Then: True\n",
      "Less Then: False\n",
      "Less Then Equal to: True\n",
      "Less Then Equal to: False\n"
     ]
    }
   ],
   "source": [
    "# Arithmetic Operators\n",
    "\n",
    "x = 20\n",
    "y = 30\n",
    "\n",
    "print(\"Arithmetic Operators:\")\n",
    "print(\"Addition:\", x + y)\n",
    "print(\"Subtraction:\", y - x)\n",
    "print(\"Multipilicatoin:\", x * y)\n",
    "\n",
    "a = 10\n",
    "b = 3\n",
    "\n",
    "print(\"Dividion:\", a / b)        # Usually division / returns decimal values.\n",
    "print(\"Floor Division:\", a // b) # While floor division // always retuns round value.\n",
    "print(\"Modulus:\", a % b)         # 10 % 3 = 1 (Always retuns remaining values).\n",
    "print(\"Exponentiation:\", a ** b) # 10 % 3 = 1 (Always retuns remaining values), \n",
    "                                 # Number ko power(exponent) me uthata hai. E.g. 10 ** 3 means 10 × 10 × 10 = 1000\n",
    "\n",
    "# 2. Comparison Operators\n",
    "\n",
    "print(\"\\nComparison Operators:\")\n",
    "print(\"Equal:\", a == b)\n",
    "print(\"Not Equal:\", a != b)\n",
    "print(\"Greater Then:\", a > b)\n",
    "print(\"Less Then:\", a < b)\n",
    "print(\"Less Then Equal to:\", a >= b)\n",
    "print(\"Less Then Equal to:\", a <= b)"
   ]
  },
  {
   "cell_type": "markdown",
   "id": "a439b9e4-2a09-4299-a0b9-c01b145f7542",
   "metadata": {},
   "source": [
    "### 4. Completes the following steps of small task:"
   ]
  },
  {
   "cell_type": "markdown",
   "id": "a05ef407-1c29-4097-9674-e63f55dafff4",
   "metadata": {},
   "source": [
    "* Mention Marks of English , Islamiat and Maths out of 100 in 3 different variables\n",
    "* Mention Variable of Total Marks and assign 300 to it\n",
    "* Calculate Percentage"
   ]
  },
  {
   "cell_type": "code",
   "execution_count": 43,
   "id": "e38328d8-3d76-497f-99ce-4cb81b742200",
   "metadata": {},
   "outputs": [],
   "source": [
    "# Percentage=(Obtained Value/Total Value) × 100"
   ]
  },
  {
   "cell_type": "code",
   "execution_count": 44,
   "id": "5ed165c3-2313-42b6-9ea0-a520236a8935",
   "metadata": {},
   "outputs": [
    {
     "name": "stdout",
     "output_type": "stream",
     "text": [
      "Total_Marks 300\n",
      "Obtain_Marks 250\n",
      "Overall_Percentage 83.33333333333334\n"
     ]
    }
   ],
   "source": [
    "Islamiat_Marks = 90\n",
    "English_Marks = 85\n",
    "Maths_Marks = 75\n",
    "Total_Marks = 300\n",
    "Obtain_Marks = Islamiat_Marks + English_Marks + Maths_Marks\n",
    "Overall_Percentage = Obtain_Marks / Total_Marks * 100\n",
    "\n",
    "print(\"Total_Marks\", Total_Marks)\n",
    "print(\"Obtain_Marks\", Obtain_Marks)\n",
    "print(\"Overall_Percentage\", Overall_Percentage)\n",
    "\n"
   ]
  },
  {
   "cell_type": "markdown",
   "id": "70e46268-bd55-4a0c-9f82-ccf4bd9cb545",
   "metadata": {},
   "source": [
    "### Part -2 Python Basics (Conditional Statements)"
   ]
  },
  {
   "cell_type": "markdown",
   "id": "0a09a72f-ab95-4e8e-9638-9bd1dcd171cb",
   "metadata": {},
   "source": [
    "* 1. A company decided to give bonus of 5% to employee if his/her year of service is more than 5 years. Ask user for their salary and year of service and print the net bonus amount."
   ]
  },
  {
   "cell_type": "code",
   "execution_count": 16,
   "id": "9de68324-6762-40f1-b9f3-91f8c86d5592",
   "metadata": {},
   "outputs": [
    {
     "name": "stdin",
     "output_type": "stream",
     "text": [
      "Enter your service duratoin  6\n",
      "Enter your salary  50000\n"
     ]
    },
    {
     "name": "stdout",
     "output_type": "stream",
     "text": [
      "Congratulations! You are able to get bonus.:  2500.0\n"
     ]
    }
   ],
   "source": [
    "user_exp = float(input(\"Enter your service duratoin \"))\n",
    "Emp_Salary = int(input(\"Enter your salary \"))\n",
    "\n",
    "\n",
    "if user_exp > 5:\n",
    "    bonus = Emp_Salary * 0.05\n",
    "    print(\"Congratulations! You are able to get bonus.: \", bonus)\n",
    "else:\n",
    "    print(\"Sorry, You are not able to get bonus.\")"
   ]
  },
  {
   "cell_type": "markdown",
   "id": "06e70111-93cd-4da6-8102-34e50859441f",
   "metadata": {},
   "source": [
    "* 2. Write a program to check whether a person is eligible for voting or not. (accept age from user) if age is greater than 17 eligible otherwise not eligible"
   ]
  },
  {
   "cell_type": "code",
   "execution_count": 18,
   "id": "69f48180-a5a7-4776-9ac9-3a8c776cd346",
   "metadata": {},
   "outputs": [
    {
     "name": "stdin",
     "output_type": "stream",
     "text": [
      "Please Enter your age:  18\n"
     ]
    },
    {
     "name": "stdout",
     "output_type": "stream",
     "text": [
      "Glad to see that, because you are eligible for voting\n"
     ]
    }
   ],
   "source": [
    "user_age = int(input(\"Please Enter your age: \" ))\n",
    "\n",
    "if user_age > 17:\n",
    "    print(\"Glad to see that, because you are eligible for voting\")\n",
    "else:\n",
    "    print(\"We apologies, because you are not eligible for voting\")"
   ]
  },
  {
   "cell_type": "markdown",
   "id": "f6478726-1d3f-4f66-acdb-7dc1759a348e",
   "metadata": {},
   "source": [
    "* 3. Write a program to check whether a number entered by user is even or odd."
   ]
  },
  {
   "cell_type": "code",
   "execution_count": 23,
   "id": "a24380d5-2e87-4861-9272-937c66ddd563",
   "metadata": {},
   "outputs": [
    {
     "name": "stdin",
     "output_type": "stream",
     "text": [
      "Put a number:  2\n"
     ]
    },
    {
     "name": "stdout",
     "output_type": "stream",
     "text": [
      "Even Number\n"
     ]
    }
   ],
   "source": [
    "user_number = int(input(\"Put a number: \"))\n",
    "\n",
    "if user_number % 2 == 0:\n",
    "    print(\"Even Number\")\n",
    "else:\n",
    "    print(\"Odd Number\")"
   ]
  },
  {
   "cell_type": "markdown",
   "id": "58738318-d9b2-4680-8e5c-f10a484c7a2a",
   "metadata": {},
   "source": [
    "* 4. Write a program to check whether a number is divisible by 7 or not. Show Answer"
   ]
  },
  {
   "cell_type": "code",
   "execution_count": 26,
   "id": "9fd9e986-2d63-46bf-94e0-127ae4ed7d7b",
   "metadata": {},
   "outputs": [
    {
     "name": "stdin",
     "output_type": "stream",
     "text": [
      "Enter a number:  17\n",
      "Enter a divisor:  5\n"
     ]
    },
    {
     "name": "stdout",
     "output_type": "stream",
     "text": [
      "It isn't divisible no\n"
     ]
    }
   ],
   "source": [
    "num = int(input(\"Enter a number: \"))\n",
    "divisor = int(input(\"Enter a divisor: \"))\n",
    "\n",
    "if num % divisor == 0:\n",
    "    print(\"It's divisible no\")\n",
    "else:\n",
    "    print(\"It isn't divisible no\")\n",
    "\n"
   ]
  },
  {
   "cell_type": "markdown",
   "id": "0bff5a6a-63ea-424e-a9ae-3f8221654a68",
   "metadata": {},
   "source": [
    "* 5. Write a program to display \"Hello\" if a number entered by user is a multiple of five , otherwise print \"Bye\"."
   ]
  },
  {
   "cell_type": "code",
   "execution_count": 28,
   "id": "e12f5172-ab99-44db-82a2-18d2a4fac97f",
   "metadata": {},
   "outputs": [
    {
     "name": "stdin",
     "output_type": "stream",
     "text": [
      "Enter a number:  7\n"
     ]
    },
    {
     "name": "stdout",
     "output_type": "stream",
     "text": [
      "Bye.\n"
     ]
    }
   ],
   "source": [
    "num = int(input(\"Enter a number: \"))\n",
    "\n",
    "if num % 5 == 0:\n",
    "    print(\"Hello!\")\n",
    "else:\n",
    "    print(\"Bye.\")\n"
   ]
  },
  {
   "cell_type": "markdown",
   "id": "13030d51-59fc-402a-8113-4ee46401ca75",
   "metadata": {},
   "source": [
    "* 6.0 Write a program to calculate the electricity bill (accept number of unit from user) according to the following criteria :\n",
    "- 6.1 Unit Price uptp 100 units no charges,  # e.g 1. if input unit is 97 than total bill amount is Rs.0\n",
    "- 6.2 If 200 units Rs 5 per unit charges,  # e.g 2. if input unit is 150 than total bill amount is Rs.750\n",
    "- 6.3 After 200 units Rs 10 per unit.        # e.g 3. if input unit is 350 than total bill amount is Rs.3500"
   ]
  },
  {
   "cell_type": "code",
   "execution_count": 34,
   "id": "2112f022-f82a-4453-b02a-0f277d98e26e",
   "metadata": {},
   "outputs": [
    {
     "name": "stdin",
     "output_type": "stream",
     "text": [
      "Enter your electricity bill units here:  350\n"
     ]
    },
    {
     "name": "stdout",
     "output_type": "stream",
     "text": [
      "Your total bill amount is 3500\n"
     ]
    }
   ],
   "source": [
    "unit_no = int(input(\"Enter your electricity bill units here: \"))\n",
    "\n",
    "if unit_no >= 0 and unit_no <= 100:\n",
    "    print(\"Your total bill amount is 0\")\n",
    "elif unit_no > 100 and unit_no <= 200:\n",
    "    print(\"Your total bill amount is\", unit_no * 5)\n",
    "else:\n",
    "    print(\"Your total bill amount is\", unit_no * 10)"
   ]
  },
  {
   "cell_type": "markdown",
   "id": "695f1073-8279-416e-9b29-fff1a1dc3963",
   "metadata": {},
   "source": [
    "* 7. Write a program to display the last digit of a number."
   ]
  },
  {
   "cell_type": "code",
   "execution_count": 5,
   "id": "81d262df-e216-484c-bd03-bb333a18c941",
   "metadata": {},
   "outputs": [
    {
     "name": "stdin",
     "output_type": "stream",
     "text": [
      "Add your number: 99\n"
     ]
    },
    {
     "name": "stdout",
     "output_type": "stream",
     "text": [
      "Your last digit is 9\n"
     ]
    }
   ],
   "source": [
    "add_number = int(input(\"Add your number:\" ))\n",
    "last_digit = add_number % 10\n",
    "print(\"Your last digit is\", last_digit)\n"
   ]
  },
  {
   "cell_type": "markdown",
   "id": "e50e9647-1dfb-4252-880e-1b3e8a5ad779",
   "metadata": {},
   "source": [
    "* 8. Take values of length and breadth of a rectangle from user and print if it is square or rectangle."
   ]
  },
  {
   "cell_type": "code",
   "execution_count": 8,
   "id": "6ec409cf-4f9a-4d26-ac98-6666a8e26318",
   "metadata": {},
   "outputs": [
    {
     "name": "stdin",
     "output_type": "stream",
     "text": [
      "Enter the lenght:  5\n",
      "Enter the breadth:  9\n"
     ]
    },
    {
     "name": "stdout",
     "output_type": "stream",
     "text": [
      "It's a rectangle\n"
     ]
    }
   ],
   "source": [
    "lenght = int(input(\"Enter the lenght: \"))\n",
    "breadth = int(input(\"Enter the breadth: \"))\n",
    "\n",
    "if lenght == breadth:\n",
    "    print(\"It's a Square\")\n",
    "else:\n",
    "    print(\"It's a rectangle\")"
   ]
  },
  {
   "cell_type": "markdown",
   "id": "5563da06-1432-46a8-bcd5-33cd4c97db7b",
   "metadata": {},
   "source": [
    "* 9. Take two int values from user and print greatest among them."
   ]
  },
  {
   "cell_type": "code",
   "execution_count": 14,
   "id": "382ccb3e-a886-447f-85df-cf4281cfc367",
   "metadata": {},
   "outputs": [
    {
     "name": "stdin",
     "output_type": "stream",
     "text": [
      "Enter first value:  5\n",
      "Enter second value:  5\n"
     ]
    },
    {
     "name": "stdout",
     "output_type": "stream",
     "text": [
      "5 - 5 Both are equal\n"
     ]
    }
   ],
   "source": [
    "first_value = int(input(\"Enter first value: \"))\n",
    "second_value = int(input(\"Enter second value: \"))\n",
    "\n",
    "if first_value > second_value:\n",
    "    print(first_value, \"Your first no is bigger then second\")\n",
    "elif second_value > first_value:\n",
    "    print(second_value, \"Your second no is bigger then first\")\n",
    "else:\n",
    "    print(first_value, \"-\", second_value,\"Both are equal\")"
   ]
  },
  {
   "cell_type": "markdown",
   "id": "6abcb0d6-b0e3-498c-b09b-d0907bb23e11",
   "metadata": {},
   "source": [
    "* A shop will give discount of 10% if the cost of purchased quantity is more than 1000. Ask user for quantity Suppose, one unit will cost 100. Judge and print total cost for user."
   ]
  },
  {
   "cell_type": "code",
   "execution_count": 33,
   "id": "c87945a9-1e35-4d09-8d1f-b40e24f445dc",
   "metadata": {},
   "outputs": [
    {
     "name": "stdin",
     "output_type": "stream",
     "text": [
      "Total Units:  999\n"
     ]
    },
    {
     "name": "stdout",
     "output_type": "stream",
     "text": [
      "Cost Per Unit 100\n",
      "Actual Cost of units 99900\n"
     ]
    }
   ],
   "source": [
    "Purch_Quantity = int(input(\"Total Units: \"))\n",
    "cost_per_unit = 100\n",
    "total_cost = Purch_Quantity * cost_per_unit\n",
    "\n",
    "if Purch_Quantity > 1000:\n",
    "    discount = total_cost * 10 / 100\n",
    "    final_cost = total_cost - discount\n",
    "    print(\"Cost Per Unit\", cost_per_unit)\n",
    "    print(\"Actual Cost of units\", total_cost)\n",
    "    print(\"Less discount\", discount)\n",
    "    print(\"After 10% discounted amount is\", final_cost)\n",
    "else:\n",
    "    print(\"Cost Per Unit\", cost_per_unit)\n",
    "    print(\"Actual Cost of units\", total_cost)"
   ]
  },
  {
   "cell_type": "markdown",
   "id": "8c6aeccf-e0bd-4696-a75f-7ed7ef91352b",
   "metadata": {},
   "source": [
    "* 10. A school has following rules for grading system.\n",
    "\n",
    "a. Below 25 - F\n",
    "\n",
    "b. 25 to 45 - E\n",
    "\n",
    "c. 45 to 50 - D\n",
    "\n",
    "d. 50 to 60 - C\n",
    "\n",
    "e. 60 to 80 - B\n",
    "\n",
    "f. Above 80 - A\n",
    "\n",
    "Ask user to enter marks and print the corresponding grade."
   ]
  },
  {
   "cell_type": "code",
   "execution_count": 34,
   "id": "5d57541b-f2e6-47e6-b428-7891ff353a2b",
   "metadata": {},
   "outputs": [
    {
     "name": "stdin",
     "output_type": "stream",
     "text": [
      "Enter your marks 90\n"
     ]
    },
    {
     "name": "stdout",
     "output_type": "stream",
     "text": [
      "A\n"
     ]
    }
   ],
   "source": [
    "marks = int(input(\"Enter your marks\"))\n",
    "\n",
    "if marks > 80:\n",
    "    print(\"A\")\n",
    "elif marks > 60 and marks <=80:\n",
    "    print(\"B\")\n",
    "elif marks > 50 and marks <=60:\n",
    "    print(\"C\")\n",
    "elif marks > 45 and marks <=50:\n",
    "    print(\"D\")\n",
    "elif marks > 25 and marks <=45:\n",
    "    print(\"E\")\n",
    "else:\n",
    "    print(\"F\")\n"
   ]
  },
  {
   "cell_type": "markdown",
   "id": "61cb60fa-7bec-469f-9d9f-94b86142875d",
   "metadata": {},
   "source": [
    "* 11. A student will not be allowed to sit in exam if his/her attendence is less than 75%.\n",
    "\n",
    "Take following input from user\n",
    "\n",
    "Number of classes held\n",
    "\n",
    "Number of classes attended.\n",
    "\n",
    "And print\n",
    "\n",
    "percentage of class attended\n",
    "\n",
    "Is student is allowed to sit in exam or not."
   ]
  },
  {
   "cell_type": "code",
   "execution_count": 41,
   "id": "c7013d00-92dc-47b7-b3af-d35b9c0e7bb4",
   "metadata": {},
   "outputs": [
    {
     "name": "stdin",
     "output_type": "stream",
     "text": [
      "Total class held:  80\n",
      "Total class attended:  20\n"
     ]
    },
    {
     "name": "stdout",
     "output_type": "stream",
     "text": [
      "Attendance Percentage 400.0 %\n",
      "Allowed to sit in exam.\n"
     ]
    }
   ],
   "source": [
    "classes_held = int(input(\"Total class held: \"))\n",
    "classes_attended = int(input(\"Total class attended: \"))\n",
    "\n",
    "attendance = (classes_held / classes_attended) * 100\n",
    "print(\"Attendance Percentage\", attendance, \"%\")\n",
    "\n",
    "if attendance <= 75:\n",
    "    print(\"Allowed to sit in exam.\")\n",
    "else:\n",
    "    print(\"Not allowed to sit in exam.\")"
   ]
  },
  {
   "cell_type": "markdown",
   "id": "afac18ca-774b-4715-95be-992b1ce5a2cf",
   "metadata": {},
   "source": [
    "* 12. Modify the above question to allow student to sit if he/she has medical cause. Ask user if he/she has medical cause or not ( 'Y' or 'N' ) and print accordingly.\n"
   ]
  },
  {
   "cell_type": "code",
   "execution_count": 42,
   "id": "36e196ff-a46d-45b2-8f90-7174a3b94e67",
   "metadata": {},
   "outputs": [
    {
     "name": "stdin",
     "output_type": "stream",
     "text": [
      "Enter total number of classes held:  50\n",
      "Enter number of classes attended:  10\n"
     ]
    },
    {
     "name": "stdout",
     "output_type": "stream",
     "text": [
      "Attendance Percentage 500.0 %\n"
     ]
    },
    {
     "name": "stdin",
     "output_type": "stream",
     "text": [
      "Do you have a medical cause? (Y/N):  Y\n"
     ]
    },
    {
     "name": "stdout",
     "output_type": "stream",
     "text": [
      "Allowed to sit in exam due to medical cause.\n"
     ]
    }
   ],
   "source": [
    "NumberOfClass = int(input(\"Enter total number of classes held: \"))\n",
    "NumberOfClassAtend = int(input(\"Enter number of classes attended: \"))\n",
    "\n",
    "attendance = (NumberOfClass / NumberOfClassAtend) * 100\n",
    "print(\"Attendance Percentage\", attendance, \"%\")\n",
    "\n",
    "if attendance <= 75:\n",
    "    print(\"Allowed to sit in exam.\")\n",
    "else:\n",
    "    MedicalCasuse = input(\"Do you have a medical cause? (Y/N): \")\n",
    "    if MedicalCasuse == 'Y':\n",
    "        print(\"Allowed to sit in exam due to medical cause.\")\n",
    "    else:\n",
    "        print(\"Not allowed to sit in exam.\")"
   ]
  },
  {
   "cell_type": "markdown",
   "id": "dc045193-7893-40c6-9d9a-f8b8bb72f614",
   "metadata": {},
   "source": [
    "* 13. Write a program to check if a year is leap year or not.\n",
    "If a year is divisible by 4 then it is leap year but if the year is century year like 2000, 1900, 2100 then it must be divisible by 400."
   ]
  },
  {
   "cell_type": "code",
   "execution_count": 45,
   "id": "5a58c292-84a7-4b35-bd9a-da14852a5271",
   "metadata": {},
   "outputs": [
    {
     "name": "stdin",
     "output_type": "stream",
     "text": [
      "Enter the year 5\n"
     ]
    },
    {
     "name": "stdout",
     "output_type": "stream",
     "text": [
      "5 Your year is leep year\n"
     ]
    }
   ],
   "source": [
    "year = int(input(\"Enter the year\"))\n",
    "\n",
    "if year %4:\n",
    "    print (year , \"Your year is leep year\")\n",
    "elif year %400:\n",
    "    print (year,\"Your year is century year \")\n",
    "else:\n",
    "    print (\" your year is:\", year)"
   ]
  },
  {
   "cell_type": "markdown",
   "id": "97261ea1-759a-43ec-8685-08759a2435fb",
   "metadata": {},
   "source": [
    "* 14. Ask user to enter age, gender ( M or F ), marital status ( Y or N ) and then using following rules print their place of service.\n",
    "\n",
    "* If employee is female, then she will work only urban areas.\n",
    "* If employee is male and age is between 20 to 40, then he may work anywhere areas.\n",
    "* If employee is male and age is between 40 to 60, then he will work only urban areas.\n",
    "* And any other input of age print \"Error\"\n"
   ]
  },
  {
   "cell_type": "code",
   "execution_count": 48,
   "id": "bf3be374-c92d-49e3-8784-4526a8922577",
   "metadata": {},
   "outputs": [
    {
     "name": "stdin",
     "output_type": "stream",
     "text": [
      "Enter your age:  25\n",
      "What's your gender (M/F):  F\n"
     ]
    },
    {
     "name": "stdout",
     "output_type": "stream",
     "text": [
      "You can work only urban areas.\n"
     ]
    }
   ],
   "source": [
    "age = int(input(\"Enter your age: \"))\n",
    "gender = input(\"What's your gender (M/F): \")\n",
    "# marital_status = input(\"Enter your marital status (Y/N): \")\n",
    "\n",
    "\n",
    "if gender == \"F\":\n",
    "    print(\"You can work only urban areas.\")\n",
    "elif age >= 20 and age <=40 and gender == \"M\": \n",
    "    print(\"You can work anywhere areas.\")\n",
    "elif age >= 40 and age <= 60 and gender == \"M\":\n",
    "    print(\"You can work only urban areas.\")\n",
    "else:\n",
    "    print(ERROR)"
   ]
  },
  {
   "cell_type": "markdown",
   "id": "25792e85-c133-4525-bc78-660fdab5e163",
   "metadata": {},
   "source": [
    "* 14. Take input of age of 3 people by user and determine oldest and youngest among them."
   ]
  },
  {
   "cell_type": "code",
   "execution_count": 49,
   "id": "ef4f58c7-d940-4aee-91d7-0f0023aa88ee",
   "metadata": {},
   "outputs": [
    {
     "name": "stdin",
     "output_type": "stream",
     "text": [
      "Enter your First brother age 25\n",
      "Enter your Second brother age 35\n",
      "Enter your Third brother age 37\n"
     ]
    },
    {
     "ename": "NameError",
     "evalue": "name 'a1' is not defined",
     "output_type": "error",
     "traceback": [
      "\u001b[1;31m---------------------------------------------------------------------------\u001b[0m",
      "\u001b[1;31mNameError\u001b[0m                                 Traceback (most recent call last)",
      "Cell \u001b[1;32mIn[49], line 13\u001b[0m\n\u001b[0;32m     10\u001b[0m     oldest \u001b[38;5;241m=\u001b[39m age_3\n\u001b[0;32m     12\u001b[0m \u001b[38;5;28;01mif\u001b[39;00m age_1 \u001b[38;5;241m<\u001b[39m age_2 \u001b[38;5;129;01mand\u001b[39;00m age_1 \u001b[38;5;241m<\u001b[39m age_3:\n\u001b[1;32m---> 13\u001b[0m     youngest \u001b[38;5;241m=\u001b[39m a1\n\u001b[0;32m     14\u001b[0m \u001b[38;5;28;01melif\u001b[39;00m age_2  \u001b[38;5;241m<\u001b[39m age_1 \u001b[38;5;129;01mand\u001b[39;00m age_2  \u001b[38;5;241m<\u001b[39m age_3:\n\u001b[0;32m     15\u001b[0m     youngest \u001b[38;5;241m=\u001b[39m age_2 \n",
      "\u001b[1;31mNameError\u001b[0m: name 'a1' is not defined"
     ]
    }
   ],
   "source": [
    "age_1 = int(input(\"Enter your First brother age\"))\n",
    "age_2 = int(input(\"Enter your Second brother age\"))\n",
    "age_3 = int(input(\"Enter your Third brother age\"))\n",
    "\n",
    "if age_1 > age_2  and age_1 > age_3:\n",
    "    oldest = age_1\n",
    "elif age_2 > age_1 and age_2  > age_3:\n",
    "    oldest = age_2 \n",
    "else:\n",
    "    oldest = age_3\n",
    "\n",
    "if age_1 < age_2 and age_1 < age_3:\n",
    "    youngest = a1\n",
    "elif age_2  < age_1 and age_2  < age_3:\n",
    "    youngest = age_2 \n",
    "else:\n",
    "    youngest = age_3\n",
    "\n",
    "print(\"The oldest person is\", oldest, \"years old.\")\n",
    "print(\"The youngest person is\", youngest, \"years old.\")"
   ]
  },
  {
   "cell_type": "code",
   "execution_count": null,
   "id": "371862c5-2a6d-454e-ad28-cdb8861a2380",
   "metadata": {},
   "outputs": [],
   "source": []
  }
 ],
 "metadata": {
  "kernelspec": {
   "display_name": "Python 3 (ipykernel)",
   "language": "python",
   "name": "python3"
  },
  "language_info": {
   "codemirror_mode": {
    "name": "ipython",
    "version": 3
   },
   "file_extension": ".py",
   "mimetype": "text/x-python",
   "name": "python",
   "nbconvert_exporter": "python",
   "pygments_lexer": "ipython3",
   "version": "3.12.7"
  }
 },
 "nbformat": 4,
 "nbformat_minor": 5
}
